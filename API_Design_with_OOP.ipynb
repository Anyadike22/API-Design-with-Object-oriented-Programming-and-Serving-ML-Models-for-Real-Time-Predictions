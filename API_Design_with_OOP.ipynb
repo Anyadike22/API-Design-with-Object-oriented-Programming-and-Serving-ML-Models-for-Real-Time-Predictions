{
  "nbformat": 4,
  "nbformat_minor": 0,
  "metadata": {
    "colab": {
      "provenance": []
    },
    "kernelspec": {
      "name": "python3",
      "display_name": "Python 3"
    },
    "language_info": {
      "name": "python"
    }
  },
  "cells": [
    {
      "cell_type": "code",
      "execution_count": 5,
      "metadata": {
        "colab": {
          "base_uri": "https://localhost:8080/"
        },
        "id": "nQDGe23CvOc-",
        "outputId": "dbe04461-528a-486d-d173-7d6d908b70af"
      },
      "outputs": [
        {
          "output_type": "stream",
          "name": "stdout",
          "text": [
            "Requirement already satisfied: fastapi in /usr/local/lib/python3.11/dist-packages (0.115.8)\n",
            "Requirement already satisfied: uvicorn in /usr/local/lib/python3.11/dist-packages (0.34.0)\n",
            "Requirement already satisfied: scikit-learn in /usr/local/lib/python3.11/dist-packages (1.6.1)\n",
            "Requirement already satisfied: starlette<0.46.0,>=0.40.0 in /usr/local/lib/python3.11/dist-packages (from fastapi) (0.45.3)\n",
            "Requirement already satisfied: pydantic!=1.8,!=1.8.1,!=2.0.0,!=2.0.1,!=2.1.0,<3.0.0,>=1.7.4 in /usr/local/lib/python3.11/dist-packages (from fastapi) (2.10.6)\n",
            "Requirement already satisfied: typing-extensions>=4.8.0 in /usr/local/lib/python3.11/dist-packages (from fastapi) (4.12.2)\n",
            "Requirement already satisfied: click>=7.0 in /usr/local/lib/python3.11/dist-packages (from uvicorn) (8.1.8)\n",
            "Requirement already satisfied: h11>=0.8 in /usr/local/lib/python3.11/dist-packages (from uvicorn) (0.14.0)\n",
            "Requirement already satisfied: numpy>=1.19.5 in /usr/local/lib/python3.11/dist-packages (from scikit-learn) (1.26.4)\n",
            "Requirement already satisfied: scipy>=1.6.0 in /usr/local/lib/python3.11/dist-packages (from scikit-learn) (1.13.1)\n",
            "Requirement already satisfied: joblib>=1.2.0 in /usr/local/lib/python3.11/dist-packages (from scikit-learn) (1.4.2)\n",
            "Requirement already satisfied: threadpoolctl>=3.1.0 in /usr/local/lib/python3.11/dist-packages (from scikit-learn) (3.5.0)\n",
            "Requirement already satisfied: annotated-types>=0.6.0 in /usr/local/lib/python3.11/dist-packages (from pydantic!=1.8,!=1.8.1,!=2.0.0,!=2.0.1,!=2.1.0,<3.0.0,>=1.7.4->fastapi) (0.7.0)\n",
            "Requirement already satisfied: pydantic-core==2.27.2 in /usr/local/lib/python3.11/dist-packages (from pydantic!=1.8,!=1.8.1,!=2.0.0,!=2.0.1,!=2.1.0,<3.0.0,>=1.7.4->fastapi) (2.27.2)\n",
            "Requirement already satisfied: anyio<5,>=3.6.2 in /usr/local/lib/python3.11/dist-packages (from starlette<0.46.0,>=0.40.0->fastapi) (3.7.1)\n",
            "Requirement already satisfied: idna>=2.8 in /usr/local/lib/python3.11/dist-packages (from anyio<5,>=3.6.2->starlette<0.46.0,>=0.40.0->fastapi) (3.10)\n",
            "Requirement already satisfied: sniffio>=1.1 in /usr/local/lib/python3.11/dist-packages (from anyio<5,>=3.6.2->starlette<0.46.0,>=0.40.0->fastapi) (1.3.1)\n"
          ]
        }
      ],
      "source": [
        "pip install fastapi uvicorn scikit-learn"
      ]
    },
    {
      "cell_type": "code",
      "source": [
        "from fastapi import FastAPI, HTTPException\n",
        "from pydantic import BaseModel\n",
        "from sklearn.linear_model import LinearRegression\n",
        "from sklearn.datasets import make_regression\n",
        "import numpy as np\n",
        "import pickle\n",
        "\n"
      ],
      "metadata": {
        "id": "whRoGzSS80md"
      },
      "execution_count": 6,
      "outputs": []
    },
    {
      "cell_type": "code",
      "source": [
        "\n",
        "# Step 1: Data and Model class\n",
        "class ModelHandler:\n",
        "    def __init__(self):\n",
        "        self.model = None\n",
        "\n",
        "    def train_model(self):\n",
        "        # Generate Synthetic data\n",
        "        X, y = make_regression(n_samples=100, n_features=1, noise=0.1, random_state=42)\n",
        "        self.model = LinearRegression()\n",
        "        self.model.fit(X, y)\n",
        "        self.save_model()\n",
        "\n",
        "\n",
        "    def save_model(self):\n",
        "          # Save model to the disc\n",
        "              with open('model.pkl', 'wb') as f:\n",
        "                        pickle.dump(self.model, f)\n",
        "\n",
        "    def load_model(self):\n",
        "          try:\n",
        "            with open('model.pkl', 'rb') as f:\n",
        "                 self.model = pickle.load(f)\n",
        "          except FileNotFoundError:\n",
        "                raise HTTPException(status_code=500, detail=\"Model not trained yet\")\n",
        "\n",
        "\n",
        "    def Predict(self, input_data: np.ndarray):\n",
        "      # Predict using the loaded model\n",
        "      if self.model is None:\n",
        "        self.load_model()\n",
        "        return self.model.predict(input_data)\n",
        "\n",
        "# Step 2: API Schema for Request and Response\n",
        "\n",
        "class PredictionRequest(BaseModel):\n",
        "    feature: float  # single feature input for simplicity\n",
        "\n",
        "class PredictionResponse(BaseModel):\n",
        "    Prediction: float\n",
        "\n",
        "# Step 3: API Definition\n",
        "api = FastAPI(title=\"ML Model Serving API with OOP\", version=\"1.0\")\n",
        "\n",
        "#Initialize the model handler\n",
        "model_handler = ModelHandler()\n"
      ],
      "metadata": {
        "id": "qsI41xJUBd_G"
      },
      "execution_count": 14,
      "outputs": []
    }
  ]
}